{
  "nbformat": 4,
  "nbformat_minor": 0,
  "metadata": {
    "colab": {
      "name": "bandpass_VGG_brainwave.ipynb",
      "provenance": [],
      "collapsed_sections": [],
      "machine_shape": "hm"
    },
    "kernelspec": {
      "name": "python3",
      "display_name": "Python 3"
    },
    "accelerator": "GPU"
  },
  "cells": [
    {
      "cell_type": "markdown",
      "metadata": {
        "id": "ivjUKa-RrtD2"
      },
      "source": [
        "CNN-Image classify"
      ]
    },
    {
      "cell_type": "code",
      "source": [
        "from google.colab import drive\n",
        "drive.mount('/content/drive')"
      ],
      "metadata": {
        "colab": {
          "base_uri": "https://localhost:8080/"
        },
        "id": "5pW7bAyFvJcY",
        "outputId": "3203895d-bffe-44aa-99b4-35f05dbcd5c7"
      },
      "execution_count": null,
      "outputs": [
        {
          "output_type": "stream",
          "name": "stdout",
          "text": [
            "Mounted at /content/drive\n"
          ]
        }
      ]
    },
    {
      "cell_type": "code",
      "metadata": {
        "id": "uRdUlLNepjRF"
      },
      "source": [
        "import tensorflow as tf"
      ],
      "execution_count": null,
      "outputs": []
    },
    {
      "cell_type": "code",
      "source": [
        "# import the necessary packages\n",
        "from tensorflow.keras.models import Sequential\n",
        "from tensorflow.keras.layers import BatchNormalization\n",
        "from tensorflow.keras.layers import Conv2D\n",
        "from tensorflow.keras.layers import MaxPooling2D\n",
        "from tensorflow.keras.layers import Activation\n",
        "from tensorflow.keras.layers import Flatten\n",
        "from tensorflow.keras.layers import Dropout\n",
        "from tensorflow.keras.layers import Dense\n",
        "from tensorflow.keras import backend as K\n",
        "from tqdm import tqdm\n",
        "import matplotlib.pyplot as plt\n",
        "%matplotlib inline"
      ],
      "metadata": {
        "id": "CurEzscsYREg"
      },
      "execution_count": null,
      "outputs": []
    },
    {
      "cell_type": "code",
      "metadata": {
        "id": "AdYjPZFFWk6h"
      },
      "source": [
        "import numpy as np\n",
        "import cv2\n",
        "import os\n",
        "from tqdm import tqdm\n",
        "import keras\n",
        "from keras.models import Sequential\n",
        "from keras.layers import Dense, Dropout, Activation, Flatten\n",
        "from keras.layers import Conv2D, MaxPooling2D\n",
        "import matplotlib.pyplot as plt\n",
        "from tensorflow import keras\n",
        "from keras.preprocessing import image\n",
        "from scipy.signal import butter, filtfilt\n",
        "#from tensorflow.keras.callbacks import ModelCheckpoint"
      ],
      "execution_count": null,
      "outputs": []
    },
    {
      "cell_type": "code",
      "source": [
        "# def butter_bandpass_filter(data, lowcut, highcut, fs, order):\n",
        "#     nyq = 0.5 * fs\n",
        "#     low = lowcut / nyq\n",
        "#     high = highcut / nyq\n",
        "#     b, a = butter(order, [low, high], btype='band')\n",
        "#     y = filtfilt(b, a, data)\n",
        "#     return y"
      ],
      "metadata": {
        "id": "I10MzWWk-DjL"
      },
      "execution_count": null,
      "outputs": []
    },
    {
      "cell_type": "code",
      "metadata": {
        "id": "HAAcEz-lWxFQ"
      },
      "source": [
        "from os import listdir\n",
        "from os.path import isfile, join"
      ],
      "execution_count": null,
      "outputs": []
    },
    {
      "cell_type": "code",
      "source": [
        "Xs = np.load(\"/content/drive/MyDrive/MSU_Dataset/all_xs.npy\")\n",
        "ys = np.load(\"/content/drive/MyDrive/MSU_Dataset/all_ys.npy\")\n",
        "ys[: 100]"
      ],
      "metadata": {
        "colab": {
          "base_uri": "https://localhost:8080/"
        },
        "id": "Su3Y2mJnNNSw",
        "outputId": "857ec088-d225-4597-f92b-df4cce27215d"
      },
      "execution_count": null,
      "outputs": [
        {
          "output_type": "execute_result",
          "data": {
            "text/plain": [
              "array([1, 3, 1, 3, 1, 3, 0, 2, 0, 2, 1, 3, 1, 3, 1, 3, 0, 2, 1, 3, 1, 3,\n",
              "       1, 3, 1, 3, 1, 3, 0, 2, 1, 3, 0, 2, 0, 2, 0, 2, 0, 2, 1, 3, 0, 2,\n",
              "       0, 2, 1, 3, 0, 2, 0, 2, 1, 3, 0, 2, 1, 3, 0, 2, 0, 2, 1, 3, 0, 2,\n",
              "       1, 3, 0, 2, 0, 2, 0, 2, 1, 3, 0, 2, 0, 2, 1, 3, 0, 2, 1, 3, 0, 2,\n",
              "       0, 2, 1, 3, 1, 3, 0, 2, 1, 3, 1, 3])"
            ]
          },
          "metadata": {},
          "execution_count": 6
        }
      ]
    },
    {
      "cell_type": "code",
      "source": [
        "# lowcut = 8\n",
        "# highcut = 30\n",
        "# order = 5\n",
        "# fs = 100\n",
        "# Xs2 = butter_bandpass_filter(Xs, lowcut, highcut, fs, order )"
      ],
      "metadata": {
        "id": "hTGqZj9t_el0"
      },
      "execution_count": null,
      "outputs": []
    },
    {
      "cell_type": "code",
      "source": [
        "type(plt.plot(Xs[5]))"
      ],
      "metadata": {
        "colab": {
          "base_uri": "https://localhost:8080/",
          "height": 282
        },
        "id": "LpgIq7j0Hy0k",
        "outputId": "f7dd87d8-5fb6-40c7-b77c-fefce2faf5cf"
      },
      "execution_count": null,
      "outputs": [
        {
          "output_type": "execute_result",
          "data": {
            "text/plain": [
              "list"
            ]
          },
          "metadata": {},
          "execution_count": 8
        },
        {
          "output_type": "display_data",
          "data": {
            "text/plain": [
              "<Figure size 432x288 with 1 Axes>"
            ],
            "image/png": "[encoded data removed]"
          },
          "metadata": {
            "needs_background": "light"
          }
        }
      ]
    },
    {
      "cell_type": "code",
      "source": [
        "Xs.shape,ys.shape"
      ],
      "metadata": {
        "colab": {
          "base_uri": "https://localhost:8080/"
        },
        "id": "8uoDoX8ADIdo",
        "outputId": "4974c41c-7720-4e20-c96f-8af1da24ea12"
      },
      "execution_count": null,
      "outputs": [
        {
          "output_type": "execute_result",
          "data": {
            "text/plain": [
              "((41600, 400, 62), (41600,))"
            ]
          },
          "metadata": {},
          "execution_count": 9
        }
      ]
    },
    {
      "cell_type": "code",
      "source": [
        "from tensorflow.keras.utils import to_categorical\n",
        "#Xs = to_categorical(Xs)\n",
        "Ys = to_categorical(ys)"
      ],
      "metadata": {
        "id": "d41dGX8aG3P2"
      },
      "execution_count": null,
      "outputs": []
    },
    {
      "cell_type": "code",
      "source": [
        "Xs2 = np.reshape(Xs, (Xs.shape[0], Xs.shape[1], Xs.shape[2], 1))\n",
        "Xs2.shape"
      ],
      "metadata": {
        "colab": {
          "base_uri": "https://localhost:8080/"
        },
        "id": "Z_7gZ0SGIIt9",
        "outputId": "89d9676e-fbab-4501-f3e3-591bdc982b47"
      },
      "execution_count": null,
      "outputs": [
        {
          "output_type": "execute_result",
          "data": {
            "text/plain": [
              "(41600, 400, 62, 1)"
            ]
          },
          "metadata": {},
          "execution_count": 11
        }
      ]
    },
    {
      "cell_type": "code",
      "source": [
        "Ys.shape"
      ],
      "metadata": {
        "colab": {
          "base_uri": "https://localhost:8080/"
        },
        "id": "y-PvV5a0HGF-",
        "outputId": "a0c21b51-6e4d-400f-c0c9-9b29389e6465"
      },
      "execution_count": null,
      "outputs": [
        {
          "output_type": "execute_result",
          "data": {
            "text/plain": [
              "(41600, 4)"
            ]
          },
          "metadata": {},
          "execution_count": 12
        }
      ]
    },
    {
      "cell_type": "code",
      "source": [
        "Ys[:10]"
      ],
      "metadata": {
        "colab": {
          "base_uri": "https://localhost:8080/"
        },
        "id": "6UyUANGjs2NF",
        "outputId": "13354df0-21d8-4b82-d8fc-caea168ad4ee"
      },
      "execution_count": null,
      "outputs": [
        {
          "output_type": "execute_result",
          "data": {
            "text/plain": [
              "array([[0., 1., 0., 0.],\n",
              "       [0., 0., 0., 1.],\n",
              "       [0., 1., 0., 0.],\n",
              "       [0., 0., 0., 1.],\n",
              "       [0., 1., 0., 0.],\n",
              "       [0., 0., 0., 1.],\n",
              "       [1., 0., 0., 0.],\n",
              "       [0., 0., 1., 0.],\n",
              "       [1., 0., 0., 0.],\n",
              "       [0., 0., 1., 0.]], dtype=float32)"
            ]
          },
          "metadata": {},
          "execution_count": 13
        }
      ]
    },
    {
      "cell_type": "code",
      "source": [
        "from sklearn.model_selection import train_test_split\n",
        "from sklearn.model_selection import KFold\n",
        "\n",
        "random_state = 42\n",
        "X_train, X_test, y_train, y_test = train_test_split(Xs2, Ys, test_size=0.1, random_state=random_state,shuffle=True)"
      ],
      "metadata": {
        "id": "R4IYKNLMXb1M"
      },
      "execution_count": null,
      "outputs": []
    },
    {
      "cell_type": "code",
      "source": [
        "# set the matplotlib backend so figures can be saved in the background\n",
        "import matplotlib\n",
        "matplotlib.use(\"Agg\")\n",
        "# import the necessary packages\n",
        "from tensorflow.keras.preprocessing.image import ImageDataGenerator\n",
        "from tensorflow.keras.optimizers import Adam\n",
        "from tensorflow.keras.preprocessing.image import img_to_array\n",
        "from sklearn.preprocessing import MultiLabelBinarizer\n",
        "from sklearn.model_selection import train_test_split\n",
        "#from pyimagesearch.smallervggnet import SmallerVGGNet\n",
        "import tensorflow\n",
        "import matplotlib.pyplot as plt\n",
        "from imutils import paths\n",
        "import tensorflow \n",
        "import numpy as np\n",
        "import argparse\n",
        "import random\n",
        "import pickle\n",
        "import cv2\n",
        "import os"
      ],
      "metadata": {
        "id": "c_O-6mbkYCtH"
      },
      "execution_count": null,
      "outputs": []
    },
    {
      "cell_type": "code",
      "source": [
        "from keras.applications.vgg16 import VGG16\n",
        "from keras.models import Model\n",
        "from keras.layers import Dense, Input\n",
        "from keras.layers.pooling import GlobalAveragePooling2D\n",
        "from keras.layers.recurrent import LSTM\n",
        "from keras.layers.wrappers import TimeDistributed\n",
        "#from keras.optimizers import adam\n",
        "\n",
        "video = Input(shape=(400,62,1))\n",
        "cnn_base = VGG16(input_shape=(400,62,1),weights=\"imagenet\",include_top=False)\n",
        "cnn_out = GlobalAveragePooling2D()(cnn_base.output)\n",
        "cnn = Model(input=cnn_base.input, output=cnn_out)\n",
        "cnn.trainable = False\n",
        "encoded_frames = TimeDistributed(cnn)(video)\n",
        "encoded_sequence = LSTM(256)(encoded_frames)\n",
        "hidden_layer = Dense(output_dim=1024, activation=\"elu\")(encoded_sequence)\n",
        "outputs = Dense(output_dim=4, activation=\"sigmoid\")(hidden_layer)\n",
        "model = Model([video], outputs)\n",
        "optimizer = Nadam(lr=0.001,\n",
        "                  beta_1=0.9,\n",
        "                  beta_2=0.999,\n",
        "                  epsilon=1e-08,\n",
        "                  schedule_decay=0.004)\n",
        "model.compile(loss=\"binary_crossentropy\",\n",
        "              optimizer=optimizer,\n",
        "              metrics=[\"accuracy\"]) "
      ],
      "metadata": {
        "id": "yvdXRd3dX2z4",
        "colab": {
          "base_uri": "https://localhost:8080/",
          "height": 398
        },
        "outputId": "ba5cdcfb-5426-42e4-e03f-e1a1c68bebfc"
      },
      "execution_count": null,
      "outputs": [
        {
          "output_type": "error",
          "ename": "ValueError",
          "evalue": "ignored",
          "traceback": [
            "\u001b[0;31m---------------------------------------------------------------------------\u001b[0m",
            "\u001b[0;31mValueError\u001b[0m                                Traceback (most recent call last)",
            "\u001b[0;32m<ipython-input-39-4cc2d918cd49>\u001b[0m in \u001b[0;36m<module>\u001b[0;34m()\u001b[0m\n\u001b[1;32m      8\u001b[0m \u001b[0;34m\u001b[0m\u001b[0m\n\u001b[1;32m      9\u001b[0m \u001b[0mvideo\u001b[0m \u001b[0;34m=\u001b[0m \u001b[0mInput\u001b[0m\u001b[0;34m(\u001b[0m\u001b[0mshape\u001b[0m\u001b[0;34m=\u001b[0m\u001b[0;34m(\u001b[0m\u001b[0;36m2\u001b[0m\u001b[0;34m,\u001b[0m\u001b[0;36m400\u001b[0m\u001b[0;34m,\u001b[0m\u001b[0;36m62\u001b[0m\u001b[0;34m,\u001b[0m\u001b[0;36m1\u001b[0m\u001b[0;34m)\u001b[0m\u001b[0;34m)\u001b[0m\u001b[0;34m\u001b[0m\u001b[0;34m\u001b[0m\u001b[0m\n\u001b[0;32m---> 10\u001b[0;31m \u001b[0mcnn_base\u001b[0m \u001b[0;34m=\u001b[0m \u001b[0mVGG16\u001b[0m\u001b[0;34m(\u001b[0m\u001b[0minput_shape\u001b[0m\u001b[0;34m=\u001b[0m\u001b[0;34m(\u001b[0m\u001b[0;36m400\u001b[0m\u001b[0;34m,\u001b[0m\u001b[0;36m62\u001b[0m\u001b[0;34m,\u001b[0m\u001b[0;36m1\u001b[0m\u001b[0;34m)\u001b[0m\u001b[0;34m,\u001b[0m\u001b[0mweights\u001b[0m\u001b[0;34m=\u001b[0m\u001b[0;34m\"imagenet\"\u001b[0m\u001b[0;34m,\u001b[0m\u001b[0minclude_top\u001b[0m\u001b[0;34m=\u001b[0m\u001b[0;32mFalse\u001b[0m\u001b[0;34m)\u001b[0m\u001b[0;34m\u001b[0m\u001b[0;34m\u001b[0m\u001b[0m\n\u001b[0m\u001b[1;32m     11\u001b[0m \u001b[0mcnn_out\u001b[0m \u001b[0;34m=\u001b[0m \u001b[0mGlobalAveragePooling2D\u001b[0m\u001b[0;34m(\u001b[0m\u001b[0;34m)\u001b[0m\u001b[0;34m(\u001b[0m\u001b[0mcnn_base\u001b[0m\u001b[0;34m.\u001b[0m\u001b[0moutput\u001b[0m\u001b[0;34m)\u001b[0m\u001b[0;34m\u001b[0m\u001b[0;34m\u001b[0m\u001b[0m\n\u001b[1;32m     12\u001b[0m \u001b[0mcnn\u001b[0m \u001b[0;34m=\u001b[0m \u001b[0mModel\u001b[0m\u001b[0;34m(\u001b[0m\u001b[0minput\u001b[0m\u001b[0;34m=\u001b[0m\u001b[0mcnn_base\u001b[0m\u001b[0;34m.\u001b[0m\u001b[0minput\u001b[0m\u001b[0;34m,\u001b[0m \u001b[0moutput\u001b[0m\u001b[0;34m=\u001b[0m\u001b[0mcnn_out\u001b[0m\u001b[0;34m)\u001b[0m\u001b[0;34m\u001b[0m\u001b[0;34m\u001b[0m\u001b[0m\n",
            "\u001b[0;32m/usr/local/lib/python3.7/dist-packages/keras/applications/vgg16.py\u001b[0m in \u001b[0;36mVGG16\u001b[0;34m(include_top, weights, input_tensor, input_shape, pooling, classes, classifier_activation)\u001b[0m\n\u001b[1;32m    132\u001b[0m       \u001b[0mdata_format\u001b[0m\u001b[0;34m=\u001b[0m\u001b[0mbackend\u001b[0m\u001b[0;34m.\u001b[0m\u001b[0mimage_data_format\u001b[0m\u001b[0;34m(\u001b[0m\u001b[0;34m)\u001b[0m\u001b[0;34m,\u001b[0m\u001b[0;34m\u001b[0m\u001b[0;34m\u001b[0m\u001b[0m\n\u001b[1;32m    133\u001b[0m       \u001b[0mrequire_flatten\u001b[0m\u001b[0;34m=\u001b[0m\u001b[0minclude_top\u001b[0m\u001b[0;34m,\u001b[0m\u001b[0;34m\u001b[0m\u001b[0;34m\u001b[0m\u001b[0m\n\u001b[0;32m--> 134\u001b[0;31m       weights=weights)\n\u001b[0m\u001b[1;32m    135\u001b[0m \u001b[0;34m\u001b[0m\u001b[0m\n\u001b[1;32m    136\u001b[0m   \u001b[0;32mif\u001b[0m \u001b[0minput_tensor\u001b[0m \u001b[0;32mis\u001b[0m \u001b[0;32mNone\u001b[0m\u001b[0;34m:\u001b[0m\u001b[0;34m\u001b[0m\u001b[0;34m\u001b[0m\u001b[0m\n",
            "\u001b[0;32m/usr/local/lib/python3.7/dist-packages/keras/applications/imagenet_utils.py\u001b[0m in \u001b[0;36mobtain_input_shape\u001b[0;34m(input_shape, default_size, min_size, data_format, require_flatten, weights)\u001b[0m\n\u001b[1;32m    370\u001b[0m           \u001b[0;32mraise\u001b[0m \u001b[0mValueError\u001b[0m\u001b[0;34m(\u001b[0m\u001b[0;34m'`input_shape` must be a tuple of three integers.'\u001b[0m\u001b[0;34m)\u001b[0m\u001b[0;34m\u001b[0m\u001b[0;34m\u001b[0m\u001b[0m\n\u001b[1;32m    371\u001b[0m         \u001b[0;32mif\u001b[0m \u001b[0minput_shape\u001b[0m\u001b[0;34m[\u001b[0m\u001b[0;34m-\u001b[0m\u001b[0;36m1\u001b[0m\u001b[0;34m]\u001b[0m \u001b[0;34m!=\u001b[0m \u001b[0;36m3\u001b[0m \u001b[0;32mand\u001b[0m \u001b[0mweights\u001b[0m \u001b[0;34m==\u001b[0m \u001b[0;34m'imagenet'\u001b[0m\u001b[0;34m:\u001b[0m\u001b[0;34m\u001b[0m\u001b[0;34m\u001b[0m\u001b[0m\n\u001b[0;32m--> 372\u001b[0;31m           raise ValueError('The input must have 3 channels; Received '\n\u001b[0m\u001b[1;32m    373\u001b[0m                            f'`input_shape={input_shape}`')\n\u001b[1;32m    374\u001b[0m         if ((input_shape[0] is not None and input_shape[0] < min_size) or\n",
            "\u001b[0;31mValueError\u001b[0m: The input must have 3 channels; Received `input_shape=(400, 62, 1)`"
          ]
        }
      ]
    },
    {
      "cell_type": "code",
      "source": [
        "EPOCHS = 30\n",
        "INIT_LR = 1e-4\n",
        "BS = 128\n",
        "IMAGE_DIMS = (400, 62, 1)\n",
        "# disable eager execution\n",
        "tf.compat.v1.disable_eager_execution()"
      ],
      "metadata": {
        "id": "OV0_myFqW9uQ"
      },
      "execution_count": null,
      "outputs": []
    },
    {
      "cell_type": "code",
      "metadata": {
        "id": "YjClHbH8S2iL",
        "colab": {
          "base_uri": "https://localhost:8080/",
          "height": 453
        },
        "outputId": "a834bfea-ccbe-4776-d738-4d892f8c62e0"
      },
      "source": [
        "model = SmallerVGGNet.build(\n",
        "\twidth=IMAGE_DIMS[1], height=IMAGE_DIMS[0],\n",
        "\tdepth=IMAGE_DIMS[2], classes=4,\n",
        "\tfinalAct=\"sigmoid\")\n",
        "# initialize the optimizer (SGD is sufficient)\n",
        "opt = Adam(learning_rate=INIT_LR, decay=INIT_LR / EPOCHS)"
      ],
      "execution_count": null,
      "outputs": [
        {
          "output_type": "stream",
          "name": "stdout",
          "text": [
            "WARNING:tensorflow:Layer lstm_3 will not use cuDNN kernels since it doesn't meet the criteria. It will use a generic GPU kernel as fallback when running on GPU.\n"
          ]
        },
        {
          "output_type": "error",
          "ename": "ValueError",
          "evalue": "ignored",
          "traceback": [
            "\u001b[0;31m---------------------------------------------------------------------------\u001b[0m",
            "\u001b[0;31mValueError\u001b[0m                                Traceback (most recent call last)",
            "\u001b[0;32m<ipython-input-35-14cbaa41e946>\u001b[0m in \u001b[0;36m<module>\u001b[0;34m()\u001b[0m\n\u001b[1;32m      2\u001b[0m         \u001b[0mwidth\u001b[0m\u001b[0;34m=\u001b[0m\u001b[0mIMAGE_DIMS\u001b[0m\u001b[0;34m[\u001b[0m\u001b[0;36m1\u001b[0m\u001b[0;34m]\u001b[0m\u001b[0;34m,\u001b[0m \u001b[0mheight\u001b[0m\u001b[0;34m=\u001b[0m\u001b[0mIMAGE_DIMS\u001b[0m\u001b[0;34m[\u001b[0m\u001b[0;36m0\u001b[0m\u001b[0;34m]\u001b[0m\u001b[0;34m,\u001b[0m\u001b[0;34m\u001b[0m\u001b[0;34m\u001b[0m\u001b[0m\n\u001b[1;32m      3\u001b[0m         \u001b[0mdepth\u001b[0m\u001b[0;34m=\u001b[0m\u001b[0mIMAGE_DIMS\u001b[0m\u001b[0;34m[\u001b[0m\u001b[0;36m2\u001b[0m\u001b[0;34m]\u001b[0m\u001b[0;34m,\u001b[0m \u001b[0mclasses\u001b[0m\u001b[0;34m=\u001b[0m\u001b[0;36m4\u001b[0m\u001b[0;34m,\u001b[0m\u001b[0;34m\u001b[0m\u001b[0;34m\u001b[0m\u001b[0m\n\u001b[0;32m----> 4\u001b[0;31m \tfinalAct=\"sigmoid\")\n\u001b[0m\u001b[1;32m      5\u001b[0m \u001b[0;31m# initialize the optimizer (SGD is sufficient)\u001b[0m\u001b[0;34m\u001b[0m\u001b[0;34m\u001b[0m\u001b[0;34m\u001b[0m\u001b[0m\n\u001b[1;32m      6\u001b[0m \u001b[0mopt\u001b[0m \u001b[0;34m=\u001b[0m \u001b[0mAdam\u001b[0m\u001b[0;34m(\u001b[0m\u001b[0mlearning_rate\u001b[0m\u001b[0;34m=\u001b[0m\u001b[0mINIT_LR\u001b[0m\u001b[0;34m,\u001b[0m \u001b[0mdecay\u001b[0m\u001b[0;34m=\u001b[0m\u001b[0mINIT_LR\u001b[0m \u001b[0;34m/\u001b[0m \u001b[0mEPOCHS\u001b[0m\u001b[0;34m)\u001b[0m\u001b[0;34m\u001b[0m\u001b[0;34m\u001b[0m\u001b[0m\n",
            "\u001b[0;32m<ipython-input-33-392d99846739>\u001b[0m in \u001b[0;36mbuild\u001b[0;34m(width, height, depth, classes, finalAct)\u001b[0m\n\u001b[1;32m     43\u001b[0m \u001b[0;34m\u001b[0m\u001b[0m\n\u001b[1;32m     44\u001b[0m     \u001b[0;31m#model.add(Conv1D(filters=128, kernel_size=4, padding='valid', activation='relu', strides=1))\u001b[0m\u001b[0;34m\u001b[0m\u001b[0;34m\u001b[0m\u001b[0;34m\u001b[0m\u001b[0m\n\u001b[0;32m---> 45\u001b[0;31m     \u001b[0mmodel\u001b[0m\u001b[0;34m.\u001b[0m\u001b[0madd\u001b[0m\u001b[0;34m(\u001b[0m\u001b[0mLSTM\u001b[0m\u001b[0;34m(\u001b[0m\u001b[0;36m25\u001b[0m\u001b[0;34m,\u001b[0m\u001b[0mreturn_sequences\u001b[0m\u001b[0;34m=\u001b[0m\u001b[0;32mTrue\u001b[0m\u001b[0;34m,\u001b[0m \u001b[0mactivation\u001b[0m\u001b[0;34m=\u001b[0m\u001b[0;34m'tanh'\u001b[0m\u001b[0;34m,\u001b[0m \u001b[0mrecurrent_activation\u001b[0m\u001b[0;34m=\u001b[0m\u001b[0;34m'tanh'\u001b[0m\u001b[0;34m,\u001b[0m \u001b[0mdropout\u001b[0m\u001b[0;34m=\u001b[0m\u001b[0;36m0.2\u001b[0m\u001b[0;34m,\u001b[0m \u001b[0mrecurrent_dropout\u001b[0m\u001b[0;34m=\u001b[0m\u001b[0;36m0.2\u001b[0m\u001b[0;34m)\u001b[0m\u001b[0;34m)\u001b[0m\u001b[0;34m\u001b[0m\u001b[0;34m\u001b[0m\u001b[0m\n\u001b[0m\u001b[1;32m     46\u001b[0m     \u001b[0mmodel\u001b[0m\u001b[0;34m.\u001b[0m\u001b[0madd\u001b[0m\u001b[0;34m(\u001b[0m\u001b[0mLSTM\u001b[0m\u001b[0;34m(\u001b[0m\u001b[0;36m25\u001b[0m\u001b[0;34m,\u001b[0m\u001b[0mreturn_sequences\u001b[0m\u001b[0;34m=\u001b[0m\u001b[0;32mTrue\u001b[0m\u001b[0;34m,\u001b[0m \u001b[0mactivation\u001b[0m\u001b[0;34m=\u001b[0m\u001b[0;34m'tanh'\u001b[0m\u001b[0;34m,\u001b[0m \u001b[0mrecurrent_activation\u001b[0m\u001b[0;34m=\u001b[0m\u001b[0;34m'tanh'\u001b[0m\u001b[0;34m,\u001b[0m \u001b[0mdropout\u001b[0m\u001b[0;34m=\u001b[0m\u001b[0;36m0.2\u001b[0m\u001b[0;34m,\u001b[0m \u001b[0mrecurrent_dropout\u001b[0m\u001b[0;34m=\u001b[0m\u001b[0;36m0.2\u001b[0m\u001b[0;34m)\u001b[0m\u001b[0;34m)\u001b[0m\u001b[0;34m\u001b[0m\u001b[0;34m\u001b[0m\u001b[0m\n\u001b[1;32m     47\u001b[0m     \u001b[0mmodel\u001b[0m\u001b[0;34m.\u001b[0m\u001b[0madd\u001b[0m\u001b[0;34m(\u001b[0m\u001b[0mLSTM\u001b[0m\u001b[0;34m(\u001b[0m\u001b[0munits\u001b[0m\u001b[0;34m=\u001b[0m\u001b[0;36m25\u001b[0m\u001b[0;34m)\u001b[0m\u001b[0;34m)\u001b[0m\u001b[0;34m\u001b[0m\u001b[0;34m\u001b[0m\u001b[0m\n",
            "\u001b[0;32m/usr/local/lib/python3.7/dist-packages/tensorflow/python/training/tracking/base.py\u001b[0m in \u001b[0;36m_method_wrapper\u001b[0;34m(self, *args, **kwargs)\u001b[0m\n\u001b[1;32m    627\u001b[0m     \u001b[0mself\u001b[0m\u001b[0;34m.\u001b[0m\u001b[0m_self_setattr_tracking\u001b[0m \u001b[0;34m=\u001b[0m \u001b[0;32mFalse\u001b[0m  \u001b[0;31m# pylint: disable=protected-access\u001b[0m\u001b[0;34m\u001b[0m\u001b[0;34m\u001b[0m\u001b[0m\n\u001b[1;32m    628\u001b[0m     \u001b[0;32mtry\u001b[0m\u001b[0;34m:\u001b[0m\u001b[0;34m\u001b[0m\u001b[0;34m\u001b[0m\u001b[0m\n\u001b[0;32m--> 629\u001b[0;31m       \u001b[0mresult\u001b[0m \u001b[0;34m=\u001b[0m \u001b[0mmethod\u001b[0m\u001b[0;34m(\u001b[0m\u001b[0mself\u001b[0m\u001b[0;34m,\u001b[0m \u001b[0;34m*\u001b[0m\u001b[0margs\u001b[0m\u001b[0;34m,\u001b[0m \u001b[0;34m**\u001b[0m\u001b[0mkwargs\u001b[0m\u001b[0;34m)\u001b[0m\u001b[0;34m\u001b[0m\u001b[0;34m\u001b[0m\u001b[0m\n\u001b[0m\u001b[1;32m    630\u001b[0m     \u001b[0;32mfinally\u001b[0m\u001b[0;34m:\u001b[0m\u001b[0;34m\u001b[0m\u001b[0;34m\u001b[0m\u001b[0m\n\u001b[1;32m    631\u001b[0m       \u001b[0mself\u001b[0m\u001b[0;34m.\u001b[0m\u001b[0m_self_setattr_tracking\u001b[0m \u001b[0;34m=\u001b[0m \u001b[0mprevious_value\u001b[0m  \u001b[0;31m# pylint: disable=protected-access\u001b[0m\u001b[0;34m\u001b[0m\u001b[0;34m\u001b[0m\u001b[0m\n",
            "\u001b[0;32m/usr/local/lib/python3.7/dist-packages/keras/utils/traceback_utils.py\u001b[0m in \u001b[0;36merror_handler\u001b[0;34m(*args, **kwargs)\u001b[0m\n\u001b[1;32m     65\u001b[0m     \u001b[0;32mexcept\u001b[0m \u001b[0mException\u001b[0m \u001b[0;32mas\u001b[0m \u001b[0me\u001b[0m\u001b[0;34m:\u001b[0m  \u001b[0;31m# pylint: disable=broad-except\u001b[0m\u001b[0;34m\u001b[0m\u001b[0;34m\u001b[0m\u001b[0m\n\u001b[1;32m     66\u001b[0m       \u001b[0mfiltered_tb\u001b[0m \u001b[0;34m=\u001b[0m \u001b[0m_process_traceback_frames\u001b[0m\u001b[0;34m(\u001b[0m\u001b[0me\u001b[0m\u001b[0;34m.\u001b[0m\u001b[0m__traceback__\u001b[0m\u001b[0;34m)\u001b[0m\u001b[0;34m\u001b[0m\u001b[0;34m\u001b[0m\u001b[0m\n\u001b[0;32m---> 67\u001b[0;31m       \u001b[0;32mraise\u001b[0m \u001b[0me\u001b[0m\u001b[0;34m.\u001b[0m\u001b[0mwith_traceback\u001b[0m\u001b[0;34m(\u001b[0m\u001b[0mfiltered_tb\u001b[0m\u001b[0;34m)\u001b[0m \u001b[0;32mfrom\u001b[0m \u001b[0;32mNone\u001b[0m\u001b[0;34m\u001b[0m\u001b[0;34m\u001b[0m\u001b[0m\n\u001b[0m\u001b[1;32m     68\u001b[0m     \u001b[0;32mfinally\u001b[0m\u001b[0;34m:\u001b[0m\u001b[0;34m\u001b[0m\u001b[0;34m\u001b[0m\u001b[0m\n\u001b[1;32m     69\u001b[0m       \u001b[0;32mdel\u001b[0m \u001b[0mfiltered_tb\u001b[0m\u001b[0;34m\u001b[0m\u001b[0;34m\u001b[0m\u001b[0m\n",
            "\u001b[0;32m/usr/local/lib/python3.7/dist-packages/keras/engine/input_spec.py\u001b[0m in \u001b[0;36massert_input_compatibility\u001b[0;34m(input_spec, inputs, layer_name)\u001b[0m\n\u001b[1;32m    212\u001b[0m       \u001b[0mndim\u001b[0m \u001b[0;34m=\u001b[0m \u001b[0mshape\u001b[0m\u001b[0;34m.\u001b[0m\u001b[0mrank\u001b[0m\u001b[0;34m\u001b[0m\u001b[0;34m\u001b[0m\u001b[0m\n\u001b[1;32m    213\u001b[0m       \u001b[0;32mif\u001b[0m \u001b[0mndim\u001b[0m \u001b[0;34m!=\u001b[0m \u001b[0mspec\u001b[0m\u001b[0;34m.\u001b[0m\u001b[0mndim\u001b[0m\u001b[0;34m:\u001b[0m\u001b[0;34m\u001b[0m\u001b[0;34m\u001b[0m\u001b[0m\n\u001b[0;32m--> 214\u001b[0;31m         raise ValueError(f'Input {input_index} of layer \"{layer_name}\" '\n\u001b[0m\u001b[1;32m    215\u001b[0m                          \u001b[0;34m'is incompatible with the layer: '\u001b[0m\u001b[0;34m\u001b[0m\u001b[0;34m\u001b[0m\u001b[0m\n\u001b[1;32m    216\u001b[0m                          \u001b[0;34mf'expected ndim={spec.ndim}, found ndim={ndim}. '\u001b[0m\u001b[0;34m\u001b[0m\u001b[0;34m\u001b[0m\u001b[0m\n",
            "\u001b[0;31mValueError\u001b[0m: Input 0 of layer \"lstm_3\" is incompatible with the layer: expected ndim=3, found ndim=4. Full shape received: (None, 33, 5, 128)"
          ]
        }
      ]
    },
    {
      "cell_type": "code",
      "metadata": {
        "id": "fbvrEu32T_Gm",
        "colab": {
          "base_uri": "https://localhost:8080/"
        },
        "outputId": "9b04e6cb-524a-4a59-a523-877a27fdc4ac"
      },
      "source": [
        "model.summary()"
      ],
      "execution_count": null,
      "outputs": [
        {
          "output_type": "stream",
          "name": "stdout",
          "text": [
            "Model: \"sequential\"\n",
            "_________________________________________________________________\n",
            " Layer (type)                Output Shape              Param #   \n",
            "=================================================================\n",
            " conv2d (Conv2D)             (None, 400, 62, 32)       320       \n",
            "                                                                 \n",
            " activation (Activation)     (None, 400, 62, 32)       0         \n",
            "                                                                 \n",
            " batch_normalization (BatchN  (None, 400, 62, 32)      128       \n",
            " ormalization)                                                   \n",
            "                                                                 \n",
            " max_pooling2d (MaxPooling2D  (None, 133, 20, 32)      0         \n",
            " )                                                               \n",
            "                                                                 \n",
            " dropout (Dropout)           (None, 133, 20, 32)       0         \n",
            "                                                                 \n",
            " conv2d_1 (Conv2D)           (None, 133, 20, 64)       18496     \n",
            "                                                                 \n",
            " activation_1 (Activation)   (None, 133, 20, 64)       0         \n",
            "                                                                 \n",
            " batch_normalization_1 (Batc  (None, 133, 20, 64)      256       \n",
            " hNormalization)                                                 \n",
            "                                                                 \n",
            " conv2d_2 (Conv2D)           (None, 133, 20, 64)       36928     \n",
            "                                                                 \n",
            " activation_2 (Activation)   (None, 133, 20, 64)       0         \n",
            "                                                                 \n",
            " batch_normalization_2 (Batc  (None, 133, 20, 64)      256       \n",
            " hNormalization)                                                 \n",
            "                                                                 \n",
            " max_pooling2d_1 (MaxPooling  (None, 66, 10, 64)       0         \n",
            " 2D)                                                             \n",
            "                                                                 \n",
            " dropout_1 (Dropout)         (None, 66, 10, 64)        0         \n",
            "                                                                 \n",
            " conv2d_3 (Conv2D)           (None, 66, 10, 128)       73856     \n",
            "                                                                 \n",
            " activation_3 (Activation)   (None, 66, 10, 128)       0         \n",
            "                                                                 \n",
            " batch_normalization_3 (Batc  (None, 66, 10, 128)      512       \n",
            " hNormalization)                                                 \n",
            "                                                                 \n",
            " conv2d_4 (Conv2D)           (None, 66, 10, 128)       147584    \n",
            "                                                                 \n",
            " activation_4 (Activation)   (None, 66, 10, 128)       0         \n",
            "                                                                 \n",
            " batch_normalization_4 (Batc  (None, 66, 10, 128)      512       \n",
            " hNormalization)                                                 \n",
            "                                                                 \n",
            " max_pooling2d_2 (MaxPooling  (None, 33, 5, 128)       0         \n",
            " 2D)                                                             \n",
            "                                                                 \n",
            " dropout_2 (Dropout)         (None, 33, 5, 128)        0         \n",
            "                                                                 \n",
            " flatten (Flatten)           (None, 21120)             0         \n",
            "                                                                 \n",
            " dense (Dense)               (None, 1024)              21627904  \n",
            "                                                                 \n",
            " activation_5 (Activation)   (None, 1024)              0         \n",
            "                                                                 \n",
            " batch_normalization_5 (Batc  (None, 1024)             4096      \n",
            " hNormalization)                                                 \n",
            "                                                                 \n",
            " dropout_3 (Dropout)         (None, 1024)              0         \n",
            "                                                                 \n",
            " dense_1 (Dense)             (None, 4)                 4100      \n",
            "                                                                 \n",
            " activation_6 (Activation)   (None, 4)                 0         \n",
            "                                                                 \n",
            "=================================================================\n",
            "Total params: 21,914,948\n",
            "Trainable params: 21,912,068\n",
            "Non-trainable params: 2,880\n",
            "_________________________________________________________________\n"
          ]
        }
      ]
    },
    {
      "cell_type": "code",
      "source": [
        "# model save path\n",
        "model_save_path = \"/content/drive/MyDrive/machima/VGG16_elu_binary_sigmoid_30epochs_brainwave_save_v1.h5\" \n",
        "# callback\n",
        "#callbacks = [ tensorflow.keras.callbacks.ModelCheckpoint(model_save_path,monitor='val_loss', verbose=1, save_best_only=True,mode='min'), ]\n",
        "ModelCheckpoint = [ tensorflow.keras.callbacks.ModelCheckpoint(model_save_path,monitor='val_accuracy', verbose=1, save_best_only=True,mode='max'), ]\n",
        "# Early stop\n",
        "Early = tf.keras.callbacks.EarlyStopping(monitor='val_loss', patience=10)\n",
        "\n",
        "my_callbacks = [ModelCheckpoint, Early]"
      ],
      "metadata": {
        "id": "T_X6UMbFXM_g"
      },
      "execution_count": null,
      "outputs": []
    },
    {
      "cell_type": "code",
      "source": [
        "from keras.preprocessing import image\n",
        "import numpy as np"
      ],
      "metadata": {
        "id": "UC4ZQcfaZLFn"
      },
      "execution_count": null,
      "outputs": []
    },
    {
      "cell_type": "code",
      "metadata": {
        "id": "C-uCt0VBUET0",
        "colab": {
          "base_uri": "https://localhost:8080/"
        },
        "outputId": "33beff6e-29e9-4c75-84b2-7f07f9dd734e"
      },
      "source": [
        "model.compile(loss=\"binary_crossentropy\", optimizer=opt,\n",
        "\tmetrics=[\"accuracy\"])\n",
        "# train the network\n",
        "print(\"[INFO] training network...\")\n",
        "# Train Model with datgenerator\n",
        "#gen_trian = datagen.flow(X_train, y_train, batch_size=128)\n",
        "# hist =  model.fit_generator(gen_trian,epochs=20, \n",
        "#                             validation_data=(X_test, y_test),\n",
        "#                             steps_per_epoch=X_train.shape[0]/32, \n",
        "#                             #steps_per_epoch=txt_batch_size, \n",
        "#                             callbacks=my_callbacks, \n",
        "#                             verbose=1)\n",
        "#                             #class_weight = class_weights )\n",
        "history = model.fit(X_train, y_train, epochs=30,\n",
        "                    validation_data=(X_test, y_test), batch_size=128 , callbacks=my_callbacks)"
      ],
      "execution_count": null,
      "outputs": [
        {
          "output_type": "stream",
          "name": "stdout",
          "text": [
            "[INFO] training network...\n",
            "Train on 37440 samples, validate on 4160 samples\n",
            "Epoch 1/30\n",
            "37440/37440 [==============================] - ETA: 0s - loss: 0.7370 - accuracy: 0.6347"
          ]
        },
        {
          "output_type": "stream",
          "name": "stderr",
          "text": [
            "/usr/local/lib/python3.7/dist-packages/keras/engine/training_v1.py:2057: UserWarning: `Model.state_updates` will be removed in a future version. This property should not be used in TensorFlow 2.0, as `updates` are applied automatically.\n",
            "  updates = self.state_updates\n"
          ]
        },
        {
          "output_type": "stream",
          "name": "stdout",
          "text": [
            "\n",
            "Epoch 1: val_accuracy improved from -inf to 0.70204, saving model to /content/drive/MyDrive/machima/VGG16_elu_binary_sigmoid_30epochs_brainwave_save_v1.h5\n",
            "37440/37440 [==============================] - 50s 1ms/sample - loss: 0.7370 - accuracy: 0.6347 - val_loss: 0.5918 - val_accuracy: 0.7020\n",
            "Epoch 2/30\n",
            "37440/37440 [==============================] - ETA: 0s - loss: 0.5790 - accuracy: 0.7323\n",
            "Epoch 2: val_accuracy improved from 0.70204 to 0.76046, saving model to /content/drive/MyDrive/machima/VGG16_elu_binary_sigmoid_30epochs_brainwave_save_v1.h5\n",
            "37440/37440 [==============================] - 38s 1ms/sample - loss: 0.5790 - accuracy: 0.7323 - val_loss: 0.5213 - val_accuracy: 0.7605\n",
            "Epoch 3/30\n",
            "37440/37440 [==============================] - ETA: 0s - loss: 0.5140 - accuracy: 0.7722\n",
            "Epoch 3: val_accuracy improved from 0.76046 to 0.77722, saving model to /content/drive/MyDrive/machima/VGG16_elu_binary_sigmoid_30epochs_brainwave_save_v1.h5\n",
            "37440/37440 [==============================] - 38s 1ms/sample - loss: 0.5140 - accuracy: 0.7722 - val_loss: 0.5328 - val_accuracy: 0.7772\n",
            "Epoch 4/30\n",
            "37440/37440 [==============================] - ETA: 0s - loss: 0.4796 - accuracy: 0.7880\n",
            "Epoch 4: val_accuracy improved from 0.77722 to 0.80012, saving model to /content/drive/MyDrive/machima/VGG16_elu_binary_sigmoid_30epochs_brainwave_save_v1.h5\n",
            "37440/37440 [==============================] - 39s 1ms/sample - loss: 0.4796 - accuracy: 0.7880 - val_loss: 0.4364 - val_accuracy: 0.8001\n",
            "Epoch 5/30\n",
            "37440/37440 [==============================] - ETA: 0s - loss: 0.4600 - accuracy: 0.7956\n",
            "Epoch 5: val_accuracy did not improve from 0.80012\n",
            "37440/37440 [==============================] - 36s 972us/sample - loss: 0.4600 - accuracy: 0.7956 - val_loss: 0.4303 - val_accuracy: 0.7973\n",
            "Epoch 6/30\n",
            "37440/37440 [==============================] - ETA: 0s - loss: 0.4456 - accuracy: 0.8007\n",
            "Epoch 6: val_accuracy improved from 0.80012 to 0.80481, saving model to /content/drive/MyDrive/machima/VGG16_elu_binary_sigmoid_30epochs_brainwave_save_v1.h5\n",
            "37440/37440 [==============================] - 39s 1ms/sample - loss: 0.4456 - accuracy: 0.8007 - val_loss: 0.4242 - val_accuracy: 0.8048\n",
            "Epoch 7/30\n",
            "37440/37440 [==============================] - ETA: 0s - loss: 0.4334 - accuracy: 0.8049\n",
            "Epoch 7: val_accuracy improved from 0.80481 to 0.81346, saving model to /content/drive/MyDrive/machima/VGG16_elu_binary_sigmoid_30epochs_brainwave_save_v1.h5\n",
            "37440/37440 [==============================] - 38s 1ms/sample - loss: 0.4334 - accuracy: 0.8049 - val_loss: 0.3950 - val_accuracy: 0.8135\n",
            "Epoch 8/30\n",
            "37440/37440 [==============================] - ETA: 0s - loss: 0.4205 - accuracy: 0.8108\n",
            "Epoch 8: val_accuracy improved from 0.81346 to 0.81983, saving model to /content/drive/MyDrive/machima/VGG16_elu_binary_sigmoid_30epochs_brainwave_save_v1.h5\n",
            "37440/37440 [==============================] - 39s 1ms/sample - loss: 0.4205 - accuracy: 0.8108 - val_loss: 0.3833 - val_accuracy: 0.8198\n",
            "Epoch 9/30\n",
            "37440/37440 [==============================] - ETA: 0s - loss: 0.4113 - accuracy: 0.8149\n",
            "Epoch 9: val_accuracy did not improve from 0.81983\n",
            "37440/37440 [==============================] - 36s 969us/sample - loss: 0.4113 - accuracy: 0.8149 - val_loss: 0.3796 - val_accuracy: 0.8180\n",
            "Epoch 10/30\n",
            "37440/37440 [==============================] - ETA: 0s - loss: 0.4038 - accuracy: 0.8177\n",
            "Epoch 10: val_accuracy did not improve from 0.81983\n",
            "37440/37440 [==============================] - 36s 970us/sample - loss: 0.4038 - accuracy: 0.8177 - val_loss: 0.3753 - val_accuracy: 0.8183\n",
            "Epoch 11/30\n",
            "37440/37440 [==============================] - ETA: 0s - loss: 0.3930 - accuracy: 0.8213\n",
            "Epoch 11: val_accuracy improved from 0.81983 to 0.82145, saving model to /content/drive/MyDrive/machima/VGG16_elu_binary_sigmoid_30epochs_brainwave_save_v1.h5\n",
            "37440/37440 [==============================] - 38s 1ms/sample - loss: 0.3930 - accuracy: 0.8213 - val_loss: 0.3745 - val_accuracy: 0.8215\n",
            "Epoch 12/30\n",
            "37440/37440 [==============================] - ETA: 0s - loss: 0.3856 - accuracy: 0.8246\n",
            "Epoch 12: val_accuracy improved from 0.82145 to 0.82500, saving model to /content/drive/MyDrive/machima/VGG16_elu_binary_sigmoid_30epochs_brainwave_save_v1.h5\n",
            "37440/37440 [==============================] - 38s 1ms/sample - loss: 0.3856 - accuracy: 0.8246 - val_loss: 0.3622 - val_accuracy: 0.8250\n",
            "Epoch 13/30\n",
            "37440/37440 [==============================] - ETA: 0s - loss: 0.3774 - accuracy: 0.8276\n",
            "Epoch 13: val_accuracy did not improve from 0.82500\n",
            "37440/37440 [==============================] - 36s 968us/sample - loss: 0.3774 - accuracy: 0.8276 - val_loss: 0.3621 - val_accuracy: 0.8242\n",
            "Epoch 14/30\n",
            "37440/37440 [==============================] - ETA: 0s - loss: 0.3717 - accuracy: 0.8312\n",
            "Epoch 14: val_accuracy improved from 0.82500 to 0.82782, saving model to /content/drive/MyDrive/machima/VGG16_elu_binary_sigmoid_30epochs_brainwave_save_v1.h5\n",
            "37440/37440 [==============================] - 39s 1ms/sample - loss: 0.3717 - accuracy: 0.8312 - val_loss: 0.3619 - val_accuracy: 0.8278\n",
            "Epoch 15/30\n",
            "37440/37440 [==============================] - ETA: 0s - loss: 0.3634 - accuracy: 0.8346\n",
            "Epoch 15: val_accuracy improved from 0.82782 to 0.83065, saving model to /content/drive/MyDrive/machima/VGG16_elu_binary_sigmoid_30epochs_brainwave_save_v1.h5\n",
            "37440/37440 [==============================] - 38s 1ms/sample - loss: 0.3634 - accuracy: 0.8346 - val_loss: 0.3529 - val_accuracy: 0.8306\n",
            "Epoch 16/30\n",
            "37440/37440 [==============================] - ETA: 0s - loss: 0.3547 - accuracy: 0.8381\n",
            "Epoch 16: val_accuracy did not improve from 0.83065\n",
            "37440/37440 [==============================] - 36s 969us/sample - loss: 0.3547 - accuracy: 0.8381 - val_loss: 0.3538 - val_accuracy: 0.8276\n",
            "Epoch 17/30\n",
            "37440/37440 [==============================] - ETA: 0s - loss: 0.3508 - accuracy: 0.8404\n",
            "Epoch 17: val_accuracy did not improve from 0.83065\n",
            "37440/37440 [==============================] - 36s 968us/sample - loss: 0.3508 - accuracy: 0.8404 - val_loss: 0.3565 - val_accuracy: 0.8246\n",
            "Epoch 18/30\n",
            "37440/37440 [==============================] - ETA: 0s - loss: 0.3421 - accuracy: 0.8436\n",
            "Epoch 18: val_accuracy did not improve from 0.83065\n",
            "37440/37440 [==============================] - 37s 976us/sample - loss: 0.3421 - accuracy: 0.8436 - val_loss: 0.3503 - val_accuracy: 0.8305\n",
            "Epoch 19/30\n",
            "37440/37440 [==============================] - ETA: 0s - loss: 0.3353 - accuracy: 0.8487\n",
            "Epoch 19: val_accuracy improved from 0.83065 to 0.83167, saving model to /content/drive/MyDrive/machima/VGG16_elu_binary_sigmoid_30epochs_brainwave_save_v1.h5\n",
            "37440/37440 [==============================] - 38s 1ms/sample - loss: 0.3353 - accuracy: 0.8487 - val_loss: 0.3474 - val_accuracy: 0.8317\n",
            "Epoch 20/30\n",
            "37440/37440 [==============================] - ETA: 0s - loss: 0.3289 - accuracy: 0.8511\n",
            "Epoch 20: val_accuracy improved from 0.83167 to 0.83347, saving model to /content/drive/MyDrive/machima/VGG16_elu_binary_sigmoid_30epochs_brainwave_save_v1.h5\n",
            "37440/37440 [==============================] - 38s 1ms/sample - loss: 0.3289 - accuracy: 0.8511 - val_loss: 0.3456 - val_accuracy: 0.8335\n",
            "Epoch 21/30\n",
            "37440/37440 [==============================] - ETA: 0s - loss: 0.3221 - accuracy: 0.8544\n",
            "Epoch 21: val_accuracy did not improve from 0.83347\n",
            "37440/37440 [==============================] - 36s 971us/sample - loss: 0.3221 - accuracy: 0.8544 - val_loss: 0.3488 - val_accuracy: 0.8289\n",
            "Epoch 22/30\n",
            "37440/37440 [==============================] - ETA: 0s - loss: 0.3160 - accuracy: 0.8579\n",
            "Epoch 22: val_accuracy improved from 0.83347 to 0.83401, saving model to /content/drive/MyDrive/machima/VGG16_elu_binary_sigmoid_30epochs_brainwave_save_v1.h5\n",
            "37440/37440 [==============================] - 38s 1ms/sample - loss: 0.3160 - accuracy: 0.8579 - val_loss: 0.3443 - val_accuracy: 0.8340\n",
            "Epoch 23/30\n",
            "37440/37440 [==============================] - ETA: 0s - loss: 0.3063 - accuracy: 0.8621\n",
            "Epoch 23: val_accuracy improved from 0.83401 to 0.83419, saving model to /content/drive/MyDrive/machima/VGG16_elu_binary_sigmoid_30epochs_brainwave_save_v1.h5\n",
            "37440/37440 [==============================] - 38s 1ms/sample - loss: 0.3063 - accuracy: 0.8621 - val_loss: 0.3482 - val_accuracy: 0.8342\n",
            "Epoch 24/30\n",
            "37440/37440 [==============================] - ETA: 0s - loss: 0.3007 - accuracy: 0.8660\n",
            "Epoch 24: val_accuracy improved from 0.83419 to 0.83480, saving model to /content/drive/MyDrive/machima/VGG16_elu_binary_sigmoid_30epochs_brainwave_save_v1.h5\n",
            "37440/37440 [==============================] - 38s 1ms/sample - loss: 0.3007 - accuracy: 0.8660 - val_loss: 0.3527 - val_accuracy: 0.8348\n",
            "Epoch 25/30\n",
            "37440/37440 [==============================] - ETA: 0s - loss: 0.2920 - accuracy: 0.8696\n",
            "Epoch 25: val_accuracy improved from 0.83480 to 0.83672, saving model to /content/drive/MyDrive/machima/VGG16_elu_binary_sigmoid_30epochs_brainwave_save_v1.h5\n",
            "37440/37440 [==============================] - 39s 1ms/sample - loss: 0.2920 - accuracy: 0.8696 - val_loss: 0.3458 - val_accuracy: 0.8367\n",
            "Epoch 26/30\n",
            "37440/37440 [==============================] - ETA: 0s - loss: 0.2846 - accuracy: 0.8729\n",
            "Epoch 26: val_accuracy did not improve from 0.83672\n",
            "37440/37440 [==============================] - 36s 968us/sample - loss: 0.2846 - accuracy: 0.8729 - val_loss: 0.3487 - val_accuracy: 0.8358\n",
            "Epoch 27/30\n",
            "37440/37440 [==============================] - ETA: 0s - loss: 0.2771 - accuracy: 0.8772\n",
            "Epoch 27: val_accuracy did not improve from 0.83672\n",
            "37440/37440 [==============================] - 36s 969us/sample - loss: 0.2771 - accuracy: 0.8772 - val_loss: 0.3532 - val_accuracy: 0.8326\n",
            "Epoch 28/30\n",
            "37440/37440 [==============================] - ETA: 0s - loss: 0.2692 - accuracy: 0.8806\n",
            "Epoch 28: val_accuracy did not improve from 0.83672\n",
            "37440/37440 [==============================] - 36s 970us/sample - loss: 0.2692 - accuracy: 0.8806 - val_loss: 0.3508 - val_accuracy: 0.8359\n",
            "Epoch 29/30\n",
            "37440/37440 [==============================] - ETA: 0s - loss: 0.2645 - accuracy: 0.8827\n",
            "Epoch 29: val_accuracy did not improve from 0.83672\n",
            "37440/37440 [==============================] - 36s 968us/sample - loss: 0.2645 - accuracy: 0.8827 - val_loss: 0.3476 - val_accuracy: 0.8346\n",
            "Epoch 30/30\n",
            "37440/37440 [==============================] - ETA: 0s - loss: 0.2558 - accuracy: 0.8867\n",
            "Epoch 30: val_accuracy improved from 0.83672 to 0.83810, saving model to /content/drive/MyDrive/machima/VGG16_elu_binary_sigmoid_30epochs_brainwave_save_v1.h5\n",
            "37440/37440 [==============================] - 38s 1ms/sample - loss: 0.2558 - accuracy: 0.8867 - val_loss: 0.3466 - val_accuracy: 0.8381\n"
          ]
        }
      ]
    },
    {
      "cell_type": "markdown",
      "metadata": {
        "id": "Orokv44Pr-ys"
      },
      "source": [
        "\n",
        "\n",
        "---\n",
        "\n",
        "\n",
        "\n",
        "---\n",
        "\n",
        "\n",
        "This for try out your image"
      ]
    },
    {
      "cell_type": "code",
      "source": [
        "model = keras.models.load_model('/content/drive/MyDrive/machima/VGG16_binary_sigmoid_30epochs_brainwave_save_v1.h5')"
      ],
      "metadata": {
        "id": "GaLmFmp9uaEX"
      },
      "execution_count": null,
      "outputs": []
    },
    {
      "cell_type": "code",
      "source": [
        "!wget https://storage.googleapis.com/stateless-aiat-or-th/x_test_final.npy"
      ],
      "metadata": {
        "colab": {
          "base_uri": "https://localhost:8080/"
        },
        "id": "_PmqHZTns3df",
        "outputId": "2238f0c1-36e8-4d54-ba68-2d02df7852ce"
      },
      "execution_count": null,
      "outputs": [
        {
          "output_type": "stream",
          "name": "stdout",
          "text": [
            "--2022-04-02 14:35:09--  https://storage.googleapis.com/stateless-aiat-or-th/x_test_final.npy\n",
            "Resolving storage.googleapis.com (storage.googleapis.com)... 74.125.204.128, 64.233.189.128, 108.177.97.128, ...\n",
            "Connecting to storage.googleapis.com (storage.googleapis.com)|74.125.204.128|:443... connected.\n",
            "HTTP request sent, awaiting response... 200 OK\n",
            "Length: 793600128 (757M) [application/octet-stream]\n",
            "Saving to: ‘x_test_final.npy’\n",
            "\n",
            "x_test_final.npy    100%[===================>] 756.84M   160MB/s    in 5.4s    \n",
            "\n",
            "2022-04-02 14:35:14 (139 MB/s) - ‘x_test_final.npy’ saved [793600128/793600128]\n",
            "\n"
          ]
        }
      ]
    },
    {
      "cell_type": "code",
      "source": [
        "project_id = 'poc01-320504'\n",
        "!gcloud config set project {project_id}\n",
        "\n",
        "# !gsutil cp -v gs://eeg-machima/session1.zip .\n",
        "# !gsutil cp -v gs://eeg-machima/session2.zip .\n",
        "!gsutil cp -v gs://eeg-machima/x_test.npy ."
      ],
      "metadata": {
        "colab": {
          "base_uri": "https://localhost:8080/"
        },
        "id": "Vrfqz0QqiJuU",
        "outputId": "9208b898-f05c-4fda-8f8e-ccf7649dcbb7"
      },
      "execution_count": null,
      "outputs": [
        {
          "output_type": "stream",
          "name": "stdout",
          "text": [
            "Updated property [core/project].\n",
            "Copying gs://eeg-machima/x_test.npy...\n",
            "Created: file://./x_test.npy\n",
            "\n",
            "Operation completed over 1 objects/756.8 MiB.                                    \n"
          ]
        }
      ]
    },
    {
      "cell_type": "code",
      "source": [
        "# import _pickle as cPickle\n",
        "\n",
        "# filename = 'finalized_model.sav'\n",
        "\n",
        "# cPickle.dump(rf, open(filename, 'wb'))\n",
        "\n",
        "# result = loaded_model.predict(fvte_test.data)\n",
        "\n",
        "# loaded_model = cPickle.load(open(filename, 'rb'))"
      ],
      "metadata": {
        "id": "xkQEdgeQdcYc"
      },
      "execution_count": null,
      "outputs": []
    },
    {
      "cell_type": "code",
      "source": [
        "x_test = np.load(\"/content/x_test.npy\")\n",
        "x_test.shape"
      ],
      "metadata": {
        "colab": {
          "base_uri": "https://localhost:8080/"
        },
        "id": "1PvcpT36jlDj",
        "outputId": "477f0d04-245c-4125-f9b3-addc515388d3"
      },
      "execution_count": null,
      "outputs": [
        {
          "output_type": "execute_result",
          "data": {
            "text/plain": [
              "(400, 62, 4000)"
            ]
          },
          "metadata": {},
          "execution_count": 7
        }
      ]
    },
    {
      "cell_type": "code",
      "source": [
        "x_test_final = np.load(\"/content/x_test_final.npy\")\n",
        "x_test_final.shape"
      ],
      "metadata": {
        "colab": {
          "base_uri": "https://localhost:8080/"
        },
        "id": "PWWHkIHFt_RX",
        "outputId": "676b73e3-ab80-4443-c5e7-e269530cd512"
      },
      "execution_count": null,
      "outputs": [
        {
          "output_type": "execute_result",
          "data": {
            "text/plain": [
              "(400, 62, 4000)"
            ]
          },
          "metadata": {},
          "execution_count": 8
        }
      ]
    },
    {
      "cell_type": "code",
      "source": [
        "kaggle_test = np.concatenate([x_test, x_test_final], axis=0)\n",
        "kaggle_test.shape"
      ],
      "metadata": {
        "colab": {
          "base_uri": "https://localhost:8080/"
        },
        "id": "l6vHRrVjuFNg",
        "outputId": "b0d58fc8-ece9-40a2-8424-65491262dc2d"
      },
      "execution_count": null,
      "outputs": [
        {
          "output_type": "execute_result",
          "data": {
            "text/plain": [
              "(800, 62, 4000)"
            ]
          },
          "metadata": {},
          "execution_count": 9
        }
      ]
    },
    {
      "cell_type": "code",
      "source": [
        "kaggle_sub = []\n",
        "for i in range(800):\n",
        "    kaggle_sub.append(kaggle_test[i].T)\n",
        "kaggle_sub = np.array(kaggle_sub)"
      ],
      "metadata": {
        "id": "gEnMLFi3p3kf"
      },
      "execution_count": null,
      "outputs": []
    },
    {
      "cell_type": "code",
      "source": [
        "index = np.linspace(0, 4000, 800, endpoint=False).astype(dtype=np.int32)\n",
        "len(index)"
      ],
      "metadata": {
        "colab": {
          "base_uri": "https://localhost:8080/"
        },
        "id": "b63hLy9xp92-",
        "outputId": "5a1cf465-fcb0-47ec-a2ea-556f6264f266"
      },
      "execution_count": null,
      "outputs": [
        {
          "output_type": "execute_result",
          "data": {
            "text/plain": [
              "800"
            ]
          },
          "metadata": {},
          "execution_count": 12
        }
      ]
    },
    {
      "cell_type": "code",
      "source": [
        "index = np.linspace(0, 4000, 400, endpoint=False).astype(dtype=np.int32)\n",
        "\n",
        "kaggle_sub400 = kaggle_sub[:, index, :]\n",
        "kaggle_sub400.shape"
      ],
      "metadata": {
        "colab": {
          "base_uri": "https://localhost:8080/"
        },
        "id": "5cm3Bg0qp6AG",
        "outputId": "970e578c-bacc-4fb5-d270-7e2cb775b6df"
      },
      "execution_count": null,
      "outputs": [
        {
          "output_type": "execute_result",
          "data": {
            "text/plain": [
              "(800, 400, 62)"
            ]
          },
          "metadata": {},
          "execution_count": 13
        }
      ]
    },
    {
      "cell_type": "code",
      "source": [
        "kaggle_sub400 = kaggle_sub400.reshape( (kaggle_sub400.shape[0], kaggle_sub400.shape[1], kaggle_sub400.shape[2], 1 ) )\n",
        "kaggle_sub400.shape"
      ],
      "metadata": {
        "colab": {
          "base_uri": "https://localhost:8080/"
        },
        "id": "2KFZj9EOqAvG",
        "outputId": "9a94d576-5df4-4195-a808-46379440e6c9"
      },
      "execution_count": null,
      "outputs": [
        {
          "output_type": "execute_result",
          "data": {
            "text/plain": [
              "(800, 400, 62, 1)"
            ]
          },
          "metadata": {},
          "execution_count": 14
        }
      ]
    },
    {
      "cell_type": "code",
      "source": [
        "kaggle_sub400[0][0][0]"
      ],
      "metadata": {
        "id": "w0H8u8m2rXRF",
        "colab": {
          "base_uri": "https://localhost:8080/"
        },
        "outputId": "03cefe2f-4da9-4f0e-f674-826503b9a479"
      },
      "execution_count": null,
      "outputs": [
        {
          "output_type": "execute_result",
          "data": {
            "text/plain": [
              "array([-58.])"
            ]
          },
          "metadata": {},
          "execution_count": 15
        }
      ]
    },
    {
      "cell_type": "code",
      "source": [
        "pred = model.predict(kaggle_sub400)"
      ],
      "metadata": {
        "id": "kgRpf6iTrGZO"
      },
      "execution_count": null,
      "outputs": []
    },
    {
      "cell_type": "code",
      "source": [
        "pred.shape"
      ],
      "metadata": {
        "colab": {
          "base_uri": "https://localhost:8080/"
        },
        "id": "ZS3pCDDsrzLe",
        "outputId": "43c952c2-3409-4a13-c8ad-f49281d383ed"
      },
      "execution_count": null,
      "outputs": [
        {
          "output_type": "execute_result",
          "data": {
            "text/plain": [
              "(800, 4)"
            ]
          },
          "metadata": {},
          "execution_count": 17
        }
      ]
    },
    {
      "cell_type": "code",
      "source": [
        "pred"
      ],
      "metadata": {
        "colab": {
          "base_uri": "https://localhost:8080/"
        },
        "id": "l-DRJVfGsCw1",
        "outputId": "b37a6421-3bcc-47fd-ea53-429f259bcc66"
      },
      "execution_count": null,
      "outputs": [
        {
          "output_type": "execute_result",
          "data": {
            "text/plain": [
              "array([[9.4052351e-01, 4.0233817e-02, 9.8847291e-03, 9.3579050e-03],\n",
              "       [8.4235674e-01, 6.9853768e-02, 6.6765413e-02, 2.1024022e-02],\n",
              "       [2.3851113e-03, 7.3401117e-01, 2.0143924e-02, 2.4345979e-01],\n",
              "       ...,\n",
              "       [2.6109564e-01, 1.0127561e-01, 6.0458684e-01, 3.3041965e-02],\n",
              "       [1.0710411e-02, 9.8871928e-01, 5.2797940e-04, 4.2200838e-05],\n",
              "       [9.9999940e-01, 3.1810609e-07, 3.1075007e-08, 1.6604572e-07]],\n",
              "      dtype=float32)"
            ]
          },
          "metadata": {},
          "execution_count": 18
        }
      ]
    },
    {
      "cell_type": "code",
      "source": [
        "ymax = np.argmax(pred, axis=1)\n",
        "ymax"
      ],
      "metadata": {
        "colab": {
          "base_uri": "https://localhost:8080/"
        },
        "id": "HvWJw4v5sKbt",
        "outputId": "037f0eb1-ff5b-4f1b-833e-7ee290b35a6b"
      },
      "execution_count": null,
      "outputs": [
        {
          "output_type": "execute_result",
          "data": {
            "text/plain": [
              "array([0, 0, 1, 0, 3, 3, 0, 2, 3, 1, 1, 0, 3, 3, 1, 2, 3, 3, 2, 1, 0, 0,\n",
              "       3, 1, 2, 0, 2, 3, 0, 2, 2, 0, 0, 2, 2, 2, 1, 0, 1, 1, 0, 3, 0, 2,\n",
              "       2, 1, 0, 2, 1, 3, 3, 3, 0, 2, 2, 1, 0, 3, 0, 2, 2, 0, 0, 1, 1, 0,\n",
              "       3, 1, 1, 1, 3, 2, 3, 0, 2, 0, 1, 2, 1, 0, 2, 2, 1, 3, 2, 0, 2, 0,\n",
              "       3, 3, 0, 0, 0, 3, 3, 2, 2, 3, 3, 2, 1, 3, 0, 1, 2, 3, 2, 1, 1, 3,\n",
              "       0, 1, 0, 3, 0, 2, 3, 0, 3, 2, 2, 3, 0, 2, 2, 3, 3, 1, 2, 2, 0, 3,\n",
              "       1, 2, 2, 3, 2, 0, 2, 1, 1, 1, 3, 2, 2, 0, 1, 1, 2, 0, 1, 1, 2, 0,\n",
              "       1, 0, 1, 0, 3, 0, 0, 2, 3, 2, 2, 0, 2, 2, 2, 0, 3, 1, 2, 0, 3, 3,\n",
              "       3, 0, 2, 1, 2, 1, 2, 2, 2, 0, 0, 1, 2, 2, 2, 2, 2, 2, 1, 1, 3, 1,\n",
              "       0, 0, 2, 2, 3, 2, 2, 3, 1, 3, 3, 2, 0, 2, 0, 2, 0, 3, 0, 2, 3, 2,\n",
              "       0, 0, 1, 1, 1, 0, 2, 2, 3, 3, 1, 3, 3, 3, 0, 3, 3, 2, 1, 0, 2, 2,\n",
              "       2, 3, 2, 2, 2, 0, 0, 1, 0, 0, 1, 2, 0, 0, 2, 1, 3, 3, 1, 1, 3, 2,\n",
              "       2, 1, 3, 2, 1, 3, 0, 3, 3, 2, 0, 0, 1, 1, 0, 3, 3, 0, 1, 2, 0, 2,\n",
              "       1, 1, 0, 1, 2, 0, 1, 0, 0, 0, 3, 3, 2, 3, 0, 0, 1, 0, 1, 0, 0, 1,\n",
              "       2, 2, 1, 1, 1, 1, 2, 1, 0, 2, 1, 1, 1, 2, 1, 1, 0, 1, 1, 0, 2, 3,\n",
              "       0, 3, 1, 0, 2, 2, 3, 0, 2, 3, 0, 2, 1, 2, 1, 3, 0, 2, 1, 3, 0, 1,\n",
              "       2, 1, 2, 0, 3, 2, 2, 0, 2, 2, 3, 1, 0, 1, 3, 0, 2, 2, 2, 2, 1, 1,\n",
              "       0, 0, 3, 3, 2, 1, 0, 0, 1, 2, 0, 2, 2, 2, 3, 1, 2, 3, 0, 1, 2, 1,\n",
              "       0, 3, 0, 1, 1, 2, 2, 1, 1, 3, 1, 2, 0, 1, 0, 0, 0, 1, 1, 2, 3, 1,\n",
              "       2, 1, 1, 1, 3, 1, 0, 0, 2, 2, 0, 3, 1, 0, 0, 0, 0, 0, 1, 2, 0, 0,\n",
              "       3, 3, 0, 3, 3, 0, 0, 3, 0, 2, 2, 2, 0, 1, 3, 0, 1, 0, 0, 1, 2, 0,\n",
              "       1, 0, 1, 0, 2, 0, 0, 1, 2, 2, 3, 1, 3, 1, 1, 3, 0, 0, 2, 2, 0, 1,\n",
              "       0, 1, 1, 0, 2, 2, 3, 0, 1, 3, 3, 2, 2, 2, 3, 3, 3, 2, 1, 1, 2, 3,\n",
              "       2, 0, 0, 2, 0, 3, 3, 2, 1, 2, 2, 1, 2, 3, 3, 3, 0, 2, 3, 1, 3, 1,\n",
              "       0, 2, 0, 2, 1, 3, 3, 2, 3, 1, 3, 3, 1, 1, 3, 3, 0, 3, 0, 0, 3, 1,\n",
              "       0, 1, 2, 0, 1, 1, 3, 0, 0, 0, 2, 2, 0, 3, 3, 2, 3, 2, 3, 0, 2, 1,\n",
              "       3, 3, 2, 0, 1, 1, 2, 0, 3, 1, 3, 3, 1, 2, 0, 1, 3, 3, 2, 1, 2, 2,\n",
              "       0, 0, 1, 0, 0, 1, 2, 3, 3, 1, 2, 2, 2, 1, 3, 2, 0, 2, 2, 3, 2, 2,\n",
              "       0, 3, 3, 3, 1, 3, 1, 3, 2, 0, 2, 1, 3, 3, 0, 2, 2, 3, 2, 3, 2, 3,\n",
              "       1, 0, 2, 3, 2, 1, 2, 2, 1, 1, 1, 2, 1, 0, 0, 3, 0, 0, 3, 0, 3, 3,\n",
              "       0, 1, 2, 1, 2, 0, 1, 3, 0, 2, 1, 0, 2, 2, 0, 2, 0, 0, 1, 3, 3, 0,\n",
              "       0, 1, 1, 3, 0, 0, 1, 1, 0, 3, 1, 2, 0, 1, 3, 0, 3, 2, 1, 0, 0, 1,\n",
              "       0, 3, 0, 0, 1, 3, 1, 0, 1, 1, 2, 1, 1, 2, 0, 3, 0, 3, 1, 1, 1, 0,\n",
              "       0, 1, 3, 3, 0, 0, 1, 2, 2, 2, 1, 1, 0, 2, 3, 0, 0, 2, 1, 3, 0, 1,\n",
              "       0, 2, 1, 3, 0, 1, 3, 1, 3, 2, 3, 0, 0, 0, 3, 0, 1, 0, 2, 3, 2, 3,\n",
              "       1, 3, 0, 3, 0, 1, 1, 2, 0, 0, 0, 0, 0, 1, 0, 1, 3, 3, 1, 1, 3, 2,\n",
              "       0, 1, 3, 0, 3, 2, 1, 0])"
            ]
          },
          "metadata": {},
          "execution_count": 19
        }
      ]
    },
    {
      "cell_type": "code",
      "source": [
        "ids = []\n",
        "predicts = []\n",
        "for i in range(800):\n",
        "    \n",
        "    if i < 400:\n",
        "        predicts.append(ymax[i])\n",
        "        ids.append(str(i+1))\n",
        "    else:\n",
        "        predicts.append(ymax[i])\n",
        "        ids.append(\"f\"+str(i-400+1))\n",
        "\n",
        "len(ids),len(predicts)"
      ],
      "metadata": {
        "colab": {
          "base_uri": "https://localhost:8080/"
        },
        "id": "Y-16xiohrly1",
        "outputId": "8ad2c4c9-aacf-4eaf-ab9b-091722f93123"
      },
      "execution_count": null,
      "outputs": [
        {
          "output_type": "execute_result",
          "data": {
            "text/plain": [
              "(800, 800)"
            ]
          },
          "metadata": {},
          "execution_count": 20
        }
      ]
    },
    {
      "cell_type": "code",
      "source": [
        "import pandas as pd\n",
        "\n",
        "df = pd.DataFrame(data={'sample_id':ids,'prediction': predicts})\n",
        "df"
      ],
      "metadata": {
        "colab": {
          "base_uri": "https://localhost:8080/",
          "height": 423
        },
        "id": "Tm9wxzsuxIL5",
        "outputId": "3e5975b7-97fd-40d2-d7c6-4368d95180c0"
      },
      "execution_count": null,
      "outputs": [
        {
          "output_type": "execute_result",
          "data": {
            "text/plain": [
              "    sample_id  prediction\n",
              "0           1           0\n",
              "1           2           0\n",
              "2           3           1\n",
              "3           4           0\n",
              "4           5           3\n",
              "..        ...         ...\n",
              "795      f396           0\n",
              "796      f397           3\n",
              "797      f398           2\n",
              "798      f399           1\n",
              "799      f400           0\n",
              "\n",
              "[800 rows x 2 columns]"
            ],
            "text/html": [
              "\n",
              "  <div id=\"df-047a59e8-011d-4040-9fb4-4475d9991a77\">\n",
              "    <div class=\"colab-df-container\">\n",
              "      <div>\n",
              "<style scoped>\n",
              "    .dataframe tbody tr th:only-of-type {\n",
              "        vertical-align: middle;\n",
              "    }\n",
              "\n",
              "    .dataframe tbody tr th {\n",
              "        vertical-align: top;\n",
              "    }\n",
              "\n",
              "    .dataframe thead th {\n",
              "        text-align: right;\n",
              "    }\n",
              "</style>\n",
              "<table border=\"1\" class=\"dataframe\">\n",
              "  <thead>\n",
              "    <tr style=\"text-align: right;\">\n",
              "      <th></th>\n",
              "      <th>sample_id</th>\n",
              "      <th>prediction</th>\n",
              "    </tr>\n",
              "  </thead>\n",
              "  <tbody>\n",
              "    <tr>\n",
              "      <th>0</th>\n",
              "      <td>1</td>\n",
              "      <td>0</td>\n",
              "    </tr>\n",
              "    <tr>\n",
              "      <th>1</th>\n",
              "      <td>2</td>\n",
              "      <td>0</td>\n",
              "    </tr>\n",
              "    <tr>\n",
              "      <th>2</th>\n",
              "      <td>3</td>\n",
              "      <td>1</td>\n",
              "    </tr>\n",
              "    <tr>\n",
              "      <th>3</th>\n",
              "      <td>4</td>\n",
              "      <td>0</td>\n",
              "    </tr>\n",
              "    <tr>\n",
              "      <th>4</th>\n",
              "      <td>5</td>\n",
              "      <td>3</td>\n",
              "    </tr>\n",
              "    <tr>\n",
              "      <th>...</th>\n",
              "      <td>...</td>\n",
              "      <td>...</td>\n",
              "    </tr>\n",
              "    <tr>\n",
              "      <th>795</th>\n",
              "      <td>f396</td>\n",
              "      <td>0</td>\n",
              "    </tr>\n",
              "    <tr>\n",
              "      <th>796</th>\n",
              "      <td>f397</td>\n",
              "      <td>3</td>\n",
              "    </tr>\n",
              "    <tr>\n",
              "      <th>797</th>\n",
              "      <td>f398</td>\n",
              "      <td>2</td>\n",
              "    </tr>\n",
              "    <tr>\n",
              "      <th>798</th>\n",
              "      <td>f399</td>\n",
              "      <td>1</td>\n",
              "    </tr>\n",
              "    <tr>\n",
              "      <th>799</th>\n",
              "      <td>f400</td>\n",
              "      <td>0</td>\n",
              "    </tr>\n",
              "  </tbody>\n",
              "</table>\n",
              "<p>800 rows × 2 columns</p>\n",
              "</div>\n",
              "      <button class=\"colab-df-convert\" onclick=\"convertToInteractive('df-047a59e8-011d-4040-9fb4-4475d9991a77')\"\n",
              "              title=\"Convert this dataframe to an interactive table.\"\n",
              "              style=\"display:none;\">\n",
              "        \n",
              "  <svg xmlns=\"http://www.w3.org/2000/svg\" height=\"24px\"viewBox=\"0 0 24 24\"\n",
              "       width=\"24px\">\n",
              "    <path d=\"M0 0h24v24H0V0z\" fill=\"none\"/>\n",
              "    <path d=\"M18.56 5.44l.94 2.06.94-2.06 2.06-.94-2.06-.94-.94-2.06-.94 2.06-2.06.94zm-11 1L8.5 8.5l.94-2.06 2.06-.94-2.06-.94L8.5 2.5l-.94 2.06-2.06.94zm10 10l.94 2.06.94-2.06 2.06-.94-2.06-.94-.94-2.06-.94 2.06-2.06.94z\"/><path d=\"M17.41 7.96l-1.37-1.37c-.4-.4-.92-.59-1.43-.59-.52 0-1.04.2-1.43.59L10.3 9.45l-7.72 7.72c-.78.78-.78 2.05 0 2.83L4 21.41c.39.39.9.59 1.41.59.51 0 1.02-.2 1.41-.59l7.78-7.78 2.81-2.81c.8-.78.8-2.07 0-2.86zM5.41 20L4 18.59l7.72-7.72 1.47 1.35L5.41 20z\"/>\n",
              "  </svg>\n",
              "      </button>\n",
              "      \n",
              "  <style>\n",
              "    .colab-df-container {\n",
              "      display:flex;\n",
              "      flex-wrap:wrap;\n",
              "      gap: 12px;\n",
              "    }\n",
              "\n",
              "    .colab-df-convert {\n",
              "      background-color: #E8F0FE;\n",
              "      border: none;\n",
              "      border-radius: 50%;\n",
              "      cursor: pointer;\n",
              "      display: none;\n",
              "      fill: #1967D2;\n",
              "      height: 32px;\n",
              "      padding: 0 0 0 0;\n",
              "      width: 32px;\n",
              "    }\n",
              "\n",
              "    .colab-df-convert:hover {\n",
              "      background-color: #E2EBFA;\n",
              "      box-shadow: 0px 1px 2px rgba(60, 64, 67, 0.3), 0px 1px 3px 1px rgba(60, 64, 67, 0.15);\n",
              "      fill: #174EA6;\n",
              "    }\n",
              "\n",
              "    [theme=dark] .colab-df-convert {\n",
              "      background-color: #3B4455;\n",
              "      fill: #D2E3FC;\n",
              "    }\n",
              "\n",
              "    [theme=dark] .colab-df-convert:hover {\n",
              "      background-color: #434B5C;\n",
              "      box-shadow: 0px 1px 3px 1px rgba(0, 0, 0, 0.15);\n",
              "      filter: drop-shadow(0px 1px 2px rgba(0, 0, 0, 0.3));\n",
              "      fill: #FFFFFF;\n",
              "    }\n",
              "  </style>\n",
              "\n",
              "      <script>\n",
              "        const buttonEl =\n",
              "          document.querySelector('#df-047a59e8-011d-4040-9fb4-4475d9991a77 button.colab-df-convert');\n",
              "        buttonEl.style.display =\n",
              "          google.colab.kernel.accessAllowed ? 'block' : 'none';\n",
              "\n",
              "        async function convertToInteractive(key) {\n",
              "          const element = document.querySelector('#df-047a59e8-011d-4040-9fb4-4475d9991a77');\n",
              "          const dataTable =\n",
              "            await google.colab.kernel.invokeFunction('convertToInteractive',\n",
              "                                                     [key], {});\n",
              "          if (!dataTable) return;\n",
              "\n",
              "          const docLinkHtml = 'Like what you see? Visit the ' +\n",
              "            '<a target=\"_blank\" href=https://colab.research.google.com/notebooks/data_table.ipynb>data table notebook</a>'\n",
              "            + ' to learn more about interactive tables.';\n",
              "          element.innerHTML = '';\n",
              "          dataTable['output_type'] = 'display_data';\n",
              "          await google.colab.output.renderOutput(dataTable, element);\n",
              "          const docLink = document.createElement('div');\n",
              "          docLink.innerHTML = docLinkHtml;\n",
              "          element.appendChild(docLink);\n",
              "        }\n",
              "      </script>\n",
              "    </div>\n",
              "  </div>\n",
              "  "
            ]
          },
          "metadata": {},
          "execution_count": 21
        }
      ]
    },
    {
      "cell_type": "code",
      "source": [
        "df.to_csv('VGG16_elu_sigmoid_binary_30epochs_weak.csv',index=False)"
      ],
      "metadata": {
        "id": "VByn97dCxVOp"
      },
      "execution_count": null,
      "outputs": []
    }
  ]
}